{
 "cells": [
  {
   "cell_type": "code",
   "execution_count": 2,
   "id": "4bcd5940-640b-4873-952b-f50d18ce319c",
   "metadata": {},
   "outputs": [
    {
     "name": "stdout",
     "output_type": "stream",
     "text": [
      "Sampled CSV saved to data/인천광역시_유동인구_202111_sampling\n"
     ]
    }
   ],
   "source": [
    "import pandas as pd\n",
    "\n",
    "def sample_csv(input_file, output_file, fraction=0.1):\n",
    "    # CSV 파일 읽기\n",
    "    df = pd.read_csv(input_file,encoding='cp949')\n",
    "    \n",
    "    # 10분의 1로 샘플링\n",
    "    sampled_df = df.sample(frac=fraction, random_state=42)\n",
    "    \n",
    "    # 샘플링된 데이터 CSV 파일로 저장\n",
    "    sampled_df.to_csv(output_file, index=False)\n",
    "    print(f\"Sampled CSV saved to {output_file}\")\n",
    "\n",
    "# 사용 예시\n",
    "input_file = 'data/인천광역시_유동인구_202111.csv'   # 입력 파일 경로\n",
    "output_file = 'data/인천광역시_유동인구_202111_sampling.csv'  # 출력 파일 경로\n",
    "\n",
    "sample_csv(input_file, output_file)"
   ]
  },
  {
   "cell_type": "code",
   "execution_count": null,
   "id": "592db4b0-a80f-463e-a804-fb13ff101423",
   "metadata": {},
   "outputs": [],
   "source": []
  }
 ],
 "metadata": {
  "kernelspec": {
   "display_name": "Python 3 (ipykernel)",
   "language": "python",
   "name": "python3"
  },
  "language_info": {
   "codemirror_mode": {
    "name": "ipython",
    "version": 3
   },
   "file_extension": ".py",
   "mimetype": "text/x-python",
   "name": "python",
   "nbconvert_exporter": "python",
   "pygments_lexer": "ipython3",
   "version": "3.11.5"
  }
 },
 "nbformat": 4,
 "nbformat_minor": 5
}
